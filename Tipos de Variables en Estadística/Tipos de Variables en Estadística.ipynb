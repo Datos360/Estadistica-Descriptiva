{
 "cells": [
  {
   "cell_type": "markdown",
   "id": "f70c79fb",
   "metadata": {},
   "source": [
    "# Tipos de Variables en Estadística\n",
    "Cuando trabajamos con datos, uno de los primeros pasos importantes es entender qué tipo de variables tenemos. Esto es clave porque según el tipo de variable, se elige el análisis correcto.\n",
    "\n",
    "En este artículo aprenderás cómo identificar si una variable es:\n",
    "\n",
    "Cualitativa nominal (por ejemplo: género, especie, color)\n",
    "\n",
    "Cualitativa ordinal (por ejemplo: nivel educativo, tamaño: pequeño-mediano-grande)\n",
    "\n",
    "Cuantitativa discreta (por ejemplo: número de hijos)\n",
    "\n",
    "Cuantitativa continua (por ejemplo: peso, altura)\n",
    "\n",
    "Y lo mejor: lo haremos paso a paso usando Python, con un dataset real llamado penguins."
   ]
  },
  {
   "cell_type": "markdown",
   "id": "9aaca044",
   "metadata": {},
   "source": [
    "## 🐧 Paso 1: Cargar el conjunto de datos\n",
    "Usaremos una base de datos llamada penguins que viene incluida en la librería seaborn."
   ]
  },
  {
   "cell_type": "code",
   "execution_count": 2,
   "id": "ed45fd5e",
   "metadata": {},
   "outputs": [
    {
     "data": {
      "text/html": [
       "<div>\n",
       "<style scoped>\n",
       "    .dataframe tbody tr th:only-of-type {\n",
       "        vertical-align: middle;\n",
       "    }\n",
       "\n",
       "    .dataframe tbody tr th {\n",
       "        vertical-align: top;\n",
       "    }\n",
       "\n",
       "    .dataframe thead th {\n",
       "        text-align: right;\n",
       "    }\n",
       "</style>\n",
       "<table border=\"1\" class=\"dataframe\">\n",
       "  <thead>\n",
       "    <tr style=\"text-align: right;\">\n",
       "      <th></th>\n",
       "      <th>species</th>\n",
       "      <th>island</th>\n",
       "      <th>bill_length_mm</th>\n",
       "      <th>bill_depth_mm</th>\n",
       "      <th>flipper_length_mm</th>\n",
       "      <th>body_mass_g</th>\n",
       "      <th>sex</th>\n",
       "    </tr>\n",
       "  </thead>\n",
       "  <tbody>\n",
       "    <tr>\n",
       "      <th>0</th>\n",
       "      <td>Adelie</td>\n",
       "      <td>Torgersen</td>\n",
       "      <td>39.1</td>\n",
       "      <td>18.7</td>\n",
       "      <td>181.0</td>\n",
       "      <td>3750.0</td>\n",
       "      <td>Male</td>\n",
       "    </tr>\n",
       "    <tr>\n",
       "      <th>1</th>\n",
       "      <td>Adelie</td>\n",
       "      <td>Torgersen</td>\n",
       "      <td>39.5</td>\n",
       "      <td>17.4</td>\n",
       "      <td>186.0</td>\n",
       "      <td>3800.0</td>\n",
       "      <td>Female</td>\n",
       "    </tr>\n",
       "    <tr>\n",
       "      <th>2</th>\n",
       "      <td>Adelie</td>\n",
       "      <td>Torgersen</td>\n",
       "      <td>40.3</td>\n",
       "      <td>18.0</td>\n",
       "      <td>195.0</td>\n",
       "      <td>3250.0</td>\n",
       "      <td>Female</td>\n",
       "    </tr>\n",
       "    <tr>\n",
       "      <th>3</th>\n",
       "      <td>Adelie</td>\n",
       "      <td>Torgersen</td>\n",
       "      <td>NaN</td>\n",
       "      <td>NaN</td>\n",
       "      <td>NaN</td>\n",
       "      <td>NaN</td>\n",
       "      <td>NaN</td>\n",
       "    </tr>\n",
       "    <tr>\n",
       "      <th>4</th>\n",
       "      <td>Adelie</td>\n",
       "      <td>Torgersen</td>\n",
       "      <td>36.7</td>\n",
       "      <td>19.3</td>\n",
       "      <td>193.0</td>\n",
       "      <td>3450.0</td>\n",
       "      <td>Female</td>\n",
       "    </tr>\n",
       "  </tbody>\n",
       "</table>\n",
       "</div>"
      ],
      "text/plain": [
       "  species     island  bill_length_mm  bill_depth_mm  flipper_length_mm  \\\n",
       "0  Adelie  Torgersen            39.1           18.7              181.0   \n",
       "1  Adelie  Torgersen            39.5           17.4              186.0   \n",
       "2  Adelie  Torgersen            40.3           18.0              195.0   \n",
       "3  Adelie  Torgersen             NaN            NaN                NaN   \n",
       "4  Adelie  Torgersen            36.7           19.3              193.0   \n",
       "\n",
       "   body_mass_g     sex  \n",
       "0       3750.0    Male  \n",
       "1       3800.0  Female  \n",
       "2       3250.0  Female  \n",
       "3          NaN     NaN  \n",
       "4       3450.0  Female  "
      ]
     },
     "execution_count": 2,
     "metadata": {},
     "output_type": "execute_result"
    }
   ],
   "source": [
    "# Importamos librerías necesarias\n",
    "import seaborn as sns\n",
    "import pandas as pd\n",
    "\n",
    "# Cargamos el dataset de pingüinos\n",
    "penguins = sns.load_dataset(\"penguins\")\n",
    "\n",
    "# Mostramos las primeras filas\n",
    "penguins.head()"
   ]
  },
  {
   "cell_type": "markdown",
   "id": "2f19b3af",
   "metadata": {},
   "source": [
    "## 🔍 Paso 2: Ver la estructura del dataset\n",
    "Queremos saber cuántas variables hay, cómo se llaman y qué tipo de datos contiene cada una."
   ]
  },
  {
   "cell_type": "code",
   "execution_count": 3,
   "id": "15f70a9e",
   "metadata": {},
   "outputs": [
    {
     "name": "stdout",
     "output_type": "stream",
     "text": [
      "<class 'pandas.core.frame.DataFrame'>\n",
      "RangeIndex: 344 entries, 0 to 343\n",
      "Data columns (total 7 columns):\n",
      " #   Column             Non-Null Count  Dtype  \n",
      "---  ------             --------------  -----  \n",
      " 0   species            344 non-null    object \n",
      " 1   island             344 non-null    object \n",
      " 2   bill_length_mm     342 non-null    float64\n",
      " 3   bill_depth_mm      342 non-null    float64\n",
      " 4   flipper_length_mm  342 non-null    float64\n",
      " 5   body_mass_g        342 non-null    float64\n",
      " 6   sex                333 non-null    object \n",
      "dtypes: float64(4), object(3)\n",
      "memory usage: 18.9+ KB\n"
     ]
    }
   ],
   "source": [
    "# Información general del conjunto de datos\n",
    "penguins.info()"
   ]
  },
  {
   "cell_type": "markdown",
   "id": "85093d41",
   "metadata": {},
   "source": [
    "El comando anterior dice:\n",
    "\n",
    "Cuántas filas hay\n",
    "\n",
    "Qué columnas tiene el dataset\n",
    "\n",
    "Si hay datos faltantes (null)\n",
    "\n",
    "El tipo de dato según Python (object, float, int)"
   ]
  },
  {
   "cell_type": "markdown",
   "id": "73535b6d",
   "metadata": {},
   "source": [
    "## 🧪 Paso 3: Ver los tipos de datos\n",
    "Ahora vamos a listar el tipo de dato de cada columna."
   ]
  },
  {
   "cell_type": "code",
   "execution_count": 4,
   "id": "31457261",
   "metadata": {},
   "outputs": [
    {
     "data": {
      "text/plain": [
       "species               object\n",
       "island                object\n",
       "bill_length_mm       float64\n",
       "bill_depth_mm        float64\n",
       "flipper_length_mm    float64\n",
       "body_mass_g          float64\n",
       "sex                   object\n",
       "dtype: object"
      ]
     },
     "execution_count": 4,
     "metadata": {},
     "output_type": "execute_result"
    }
   ],
   "source": [
    "# Ver el tipo de dato de cada columna\n",
    "penguins.dtypes"
   ]
  },
  {
   "cell_type": "markdown",
   "id": "327efa54",
   "metadata": {},
   "source": [
    "Esto nos dirá, por ejemplo:\n",
    "\n",
    "object: texto o categorías (posiblemente cualitativas)\n",
    "\n",
    "float64: número con decimales (posiblemente cuantitativa continua)\n",
    "\n",
    "int64: número entero (posiblemente cuantitativa discreta)"
   ]
  },
  {
   "cell_type": "markdown",
   "id": "1c3b6b6b",
   "metadata": {},
   "source": [
    "## 🧭 Paso 4: Clasificar las variables de forma didáctica\n",
    "Vamos a crear una pequeña función que clasifique cada variable en una de las siguientes categorías:\n",
    "\n",
    "+ Cualitativa nominal\n",
    "\n",
    "+ Cualitativa ordinal\n",
    "\n",
    "+ Cuantitativa discreta\n",
    "\n",
    "+ Cuantitativa continua"
   ]
  },
  {
   "cell_type": "code",
   "execution_count": 9,
   "id": "904b91d6",
   "metadata": {},
   "outputs": [],
   "source": [
    "# Función para clasificar variables\n",
    "def clasificar_variable(columna, serie):\n",
    "    if pd.api.types.is_numeric_dtype(serie):\n",
    "        if serie.dropna().apply(float.is_integer).all():\n",
    "            return 'Cuantitativa discreta'\n",
    "        else:\n",
    "            return 'Cuantitativa continua'\n",
    "    elif pd.api.types.is_string_dtype(serie) or pd.api.types.is_categorical_dtype(serie):\n",
    "        if columna in ['species', 'island', 'sex']:\n",
    "            return 'Cualitativa nominal'\n",
    "        else:\n",
    "            return 'Cualitativa ordinal'\n",
    "    else:\n",
    "        return 'Otro tipo'\n"
   ]
  },
  {
   "cell_type": "markdown",
   "id": "2ef252ad",
   "metadata": {},
   "source": [
    "## ✅ Paso 5: Aplicar la clasificación a todas las columnas\n",
    "Ahora aplicamos la función a cada variable."
   ]
  },
  {
   "cell_type": "code",
   "execution_count": 10,
   "id": "a8c41d07",
   "metadata": {},
   "outputs": [
    {
     "name": "stdout",
     "output_type": "stream",
     "text": [
      "species: Cualitativa nominal\n",
      "island: Cualitativa nominal\n",
      "bill_length_mm: Cuantitativa continua\n",
      "bill_depth_mm: Cuantitativa continua\n",
      "flipper_length_mm: Cuantitativa discreta\n",
      "body_mass_g: Cuantitativa discreta\n",
      "sex: Otro tipo\n"
     ]
    },
    {
     "name": "stderr",
     "output_type": "stream",
     "text": [
      "C:\\Users\\asus  vivobook\\AppData\\Local\\Temp\\ipykernel_22824\\2215066842.py:8: DeprecationWarning: is_categorical_dtype is deprecated and will be removed in a future version. Use isinstance(dtype, pd.CategoricalDtype) instead\n",
      "  elif pd.api.types.is_string_dtype(serie) or pd.api.types.is_categorical_dtype(serie):\n"
     ]
    }
   ],
   "source": [
    "# Clasificamos cada variable\n",
    "clasificaciones = {}\n",
    "\n",
    "for col in penguins.columns:\n",
    "    tipo = clasificar_variable(col, penguins[col])\n",
    "    clasificaciones[col] = tipo\n",
    "    print(f\"{col}: {tipo}\")\n"
   ]
  },
  {
   "cell_type": "markdown",
   "id": "a19082ce",
   "metadata": {},
   "source": [
    "# 🗃️ Paso 6: Crear un resumen en tabla\n",
    "Para que sea más visual, vamos a crear un resumen tipo tabla."
   ]
  },
  {
   "cell_type": "code",
   "execution_count": 11,
   "id": "78347e3f",
   "metadata": {},
   "outputs": [
    {
     "data": {
      "text/html": [
       "<div>\n",
       "<style scoped>\n",
       "    .dataframe tbody tr th:only-of-type {\n",
       "        vertical-align: middle;\n",
       "    }\n",
       "\n",
       "    .dataframe tbody tr th {\n",
       "        vertical-align: top;\n",
       "    }\n",
       "\n",
       "    .dataframe thead th {\n",
       "        text-align: right;\n",
       "    }\n",
       "</style>\n",
       "<table border=\"1\" class=\"dataframe\">\n",
       "  <thead>\n",
       "    <tr style=\"text-align: right;\">\n",
       "      <th></th>\n",
       "      <th>Variable</th>\n",
       "      <th>Tipo pandas</th>\n",
       "      <th>Clasificación didáctica</th>\n",
       "    </tr>\n",
       "  </thead>\n",
       "  <tbody>\n",
       "    <tr>\n",
       "      <th>species</th>\n",
       "      <td>species</td>\n",
       "      <td>object</td>\n",
       "      <td>Cualitativa nominal</td>\n",
       "    </tr>\n",
       "    <tr>\n",
       "      <th>island</th>\n",
       "      <td>island</td>\n",
       "      <td>object</td>\n",
       "      <td>Cualitativa nominal</td>\n",
       "    </tr>\n",
       "    <tr>\n",
       "      <th>bill_length_mm</th>\n",
       "      <td>bill_length_mm</td>\n",
       "      <td>float64</td>\n",
       "      <td>Cuantitativa continua</td>\n",
       "    </tr>\n",
       "    <tr>\n",
       "      <th>bill_depth_mm</th>\n",
       "      <td>bill_depth_mm</td>\n",
       "      <td>float64</td>\n",
       "      <td>Cuantitativa continua</td>\n",
       "    </tr>\n",
       "    <tr>\n",
       "      <th>flipper_length_mm</th>\n",
       "      <td>flipper_length_mm</td>\n",
       "      <td>float64</td>\n",
       "      <td>Cuantitativa discreta</td>\n",
       "    </tr>\n",
       "    <tr>\n",
       "      <th>body_mass_g</th>\n",
       "      <td>body_mass_g</td>\n",
       "      <td>float64</td>\n",
       "      <td>Cuantitativa discreta</td>\n",
       "    </tr>\n",
       "    <tr>\n",
       "      <th>sex</th>\n",
       "      <td>sex</td>\n",
       "      <td>object</td>\n",
       "      <td>Otro tipo</td>\n",
       "    </tr>\n",
       "  </tbody>\n",
       "</table>\n",
       "</div>"
      ],
      "text/plain": [
       "                            Variable Tipo pandas Clasificación didáctica\n",
       "species                      species      object     Cualitativa nominal\n",
       "island                        island      object     Cualitativa nominal\n",
       "bill_length_mm        bill_length_mm     float64   Cuantitativa continua\n",
       "bill_depth_mm          bill_depth_mm     float64   Cuantitativa continua\n",
       "flipper_length_mm  flipper_length_mm     float64   Cuantitativa discreta\n",
       "body_mass_g              body_mass_g     float64   Cuantitativa discreta\n",
       "sex                              sex      object               Otro tipo"
      ]
     },
     "execution_count": 11,
     "metadata": {},
     "output_type": "execute_result"
    }
   ],
   "source": [
    "# Creamos una tabla resumen\n",
    "resumen_df = pd.DataFrame({\n",
    "    'Variable': penguins.columns,\n",
    "    'Tipo pandas': penguins.dtypes.astype(str),\n",
    "    'Clasificación didáctica': [clasificaciones[col] for col in penguins.columns]\n",
    "})\n",
    "\n",
    "# Mostramos la tabla\n",
    "resumen_df\n"
   ]
  },
  {
   "cell_type": "code",
   "execution_count": null,
   "id": "3d137145",
   "metadata": {},
   "outputs": [],
   "source": []
  }
 ],
 "metadata": {
  "kernelspec": {
   "display_name": "Python 3",
   "language": "python",
   "name": "python3"
  },
  "language_info": {
   "codemirror_mode": {
    "name": "ipython",
    "version": 3
   },
   "file_extension": ".py",
   "mimetype": "text/x-python",
   "name": "python",
   "nbconvert_exporter": "python",
   "pygments_lexer": "ipython3",
   "version": "3.10.0"
  }
 },
 "nbformat": 4,
 "nbformat_minor": 5
}
